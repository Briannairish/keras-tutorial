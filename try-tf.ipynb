{
 "cells": [
  {
   "cell_type": "code",
   "execution_count": 1,
   "metadata": {
    "collapsed": true
   },
   "outputs": [],
   "source": [
    "import tensorflow as tf"
   ]
  },
  {
   "cell_type": "markdown",
   "metadata": {},
   "source": [
    "# Trying out tensor flow\n",
    "\n",
    "Based on the [work by Jason Baldridge](https://bcomposes.wordpress.com/2015/11/26/simple-end-to-end-tensorflow-examples/). \n",
    "\n",
    "We will try to do some really simple things with TensorFlow, Google's newly open-sourced data analysis library. \n",
    "\n",
    "Specifically, we will use TF to show the power of artificial neural networks.\n",
    "\n",
    "Having [installed](https://github.com/tensorflow/tensorflow#binary-installation) TensorFlow, we can go ahead and import it:"
   ]
  },
  {
   "cell_type": "code",
   "execution_count": 2,
   "metadata": {
    "collapsed": true
   },
   "outputs": [],
   "source": [
    "import tensorflow as tf\n",
    "s = tf.Session()"
   ]
  },
  {
   "cell_type": "markdown",
   "metadata": {},
   "source": [
    "We will use a few functions from [`scikit-learn`](http://scikit-learn.org) to generate data sets:"
   ]
  },
  {
   "cell_type": "code",
   "execution_count": 3,
   "metadata": {
    "collapsed": false
   },
   "outputs": [],
   "source": [
    "from sklearn.datasets import make_blobs, make_circles, make_moons\n",
    "from sklearn.model_selection import train_test_split"
   ]
  },
  {
   "cell_type": "markdown",
   "metadata": {},
   "source": [
    "Numpy and Matplotlib are always good to have..."
   ]
  },
  {
   "cell_type": "code",
   "execution_count": 4,
   "metadata": {
    "collapsed": false
   },
   "outputs": [],
   "source": [
    "import numpy as np\n",
    "import matplotlib as mpl\n",
    "import matplotlib.pyplot as plt\n",
    "%matplotlib inline"
   ]
  },
  {
   "cell_type": "markdown",
   "metadata": {},
   "source": [
    "We'll also set up some configuration variables up-front:"
   ]
  },
  {
   "cell_type": "code",
   "execution_count": 5,
   "metadata": {
    "collapsed": true
   },
   "outputs": [],
   "source": [
    "# Configuration variables:\n",
    "num_labels = 2    # The number of labels.\n",
    "NUM_EPOCHS = 5\n",
    "NUM_HIDDEN = 5\n",
    "BATCH_SIZE = 100  # The number of training examples to use per training step.\n",
    "n_train = 1000\n",
    "n_test = 200"
   ]
  },
  {
   "cell_type": "markdown",
   "metadata": {},
   "source": [
    "And set up a function to generate datasets from functions in `scikit-learn`:"
   ]
  },
  {
   "cell_type": "code",
   "execution_count": 6,
   "metadata": {
    "collapsed": false
   },
   "outputs": [],
   "source": [
    "def generate_dataset(func, n_train=n_train, n_test=n_test, num_labels=num_labels, **kwargs):\n",
    "    \"\"\" Create synthetic classification data-sets\n",
    "    \n",
    "    Parameters \n",
    "    ----------\n",
    "    func : one of {`make_blobs`, `make_circles`, `make_moons`}\n",
    "        What kind of data to make.\n",
    "    n_train : int\n",
    "        The size of the training set.\n",
    "    n_test : int\n",
    "        The size of the test set.\n",
    "    num_labels : int\n",
    "        The number of classes.\n",
    "    \n",
    "    Returns\n",
    "    -------\n",
    "    train_data, test_data : 2D arrays\n",
    "        Dimensions: {n_train, n_test} by 2\n",
    "    train_labels, test_labels: one-hot encoder arrays\n",
    "        These have dimensions {n_train, n_test} by num_labels\n",
    "    \"\"\"\n",
    "    fvecs, labels = func(n_train + n_test, **kwargs)\n",
    "    # We need the one-hot encoder!\n",
    "    labels_onehot = (np.arange(num_labels) == labels[:, None])\n",
    "    train_data, test_data, train_labels, test_labels = train_test_split(fvecs.astype(np.float32), \n",
    "                                                                        labels_onehot.astype(np.float32), \n",
    "                                                                        train_size=n_train)\n",
    "    return train_data, test_data, train_labels, test_labels "
   ]
  },
  {
   "cell_type": "markdown",
   "metadata": {},
   "source": [
    "### The first example is a linearly separable data-set:"
   ]
  },
  {
   "cell_type": "code",
   "execution_count": 7,
   "metadata": {
    "collapsed": false
   },
   "outputs": [],
   "source": [
    "train_data, test_data, train_labels, test_labels = generate_dataset(make_blobs, n_train=1000, n_test=200, \n",
    "                                                                    centers=2, center_box=[-4., 4.])"
   ]
  },
  {
   "cell_type": "code",
   "execution_count": 8,
   "metadata": {
    "collapsed": false
   },
   "outputs": [
    {
     "data": {
      "text/plain": [
       "(1000, 2)"
      ]
     },
     "execution_count": 8,
     "metadata": {},
     "output_type": "execute_result"
    }
   ],
   "source": [
    "train_labels.shape"
   ]
  },
  {
   "cell_type": "code",
   "execution_count": 9,
   "metadata": {
    "collapsed": false
   },
   "outputs": [
    {
     "data": {
      "image/png": "[encoded data removed]",
      "text/plain": [
       "<matplotlib.figure.Figure at 0x114423b70>"
      ]
     },
     "metadata": {},
     "output_type": "display_data"
    }
   ],
   "source": [
    "fig, ax = plt.subplots(1)\n",
    "ax.plot(train_data[np.where(train_labels[:, 0]), 0], train_data[np.where(train_labels[:, 0]), 1], 'bo')\n",
    "ax.plot(train_data[np.where(train_labels[:, 1]), 0], train_data[np.where(train_labels[:, 1]), 1], 'ro')\n",
    "ax.set_aspect('equal')"
   ]
  },
  {
   "cell_type": "code",
   "execution_count": 10,
   "metadata": {
    "collapsed": false
   },
   "outputs": [],
   "source": [
    "def train_softmax(train_data, train_labels,\n",
    "                  batch_size=BATCH_SIZE,\n",
    "                  num_epochs=NUM_EPOCHS,\n",
    "                  sess=s):\n",
    "    \"\"\" \n",
    "    Train a softmax network with cross-entropy penalty\n",
    "    \n",
    "    Parameters\n",
    "    ----------\n",
    "    train_data, train_labels: output of `generate_dataset`.\n",
    "    batch_size : int\n",
    "        The number of items in training batch.\n",
    "    num_epochs : int\n",
    "        The number of training epochs.\n",
    "        \n",
    "    Returns \n",
    "    -------\n",
    "    W : Variable\n",
    "        The model estimated weight matrix.\n",
    "    b : Variable\n",
    "        The model estimated bias vector.\n",
    "    s : TensorFlow session\n",
    "        The session in which these variables were defined.\n",
    "    \"\"\"\n",
    "    train_size, num_features = train_data.shape\n",
    "    train_size, num_labels = train_labels.shape\n",
    "    # This is where training samples and labels are fed to the graph.\n",
    "    # These placeholder nodes will be fed a batch of training data at each\n",
    "    # training step using the {feed_dict} argument to the Run() call below.\n",
    "    x = tf.placeholder(\"float\", shape=[None, num_features])\n",
    "    y = tf.placeholder(\"float\", shape=[None, num_labels])\n",
    "\n",
    "    # Define and initialize the network:\n",
    "    # These are the weights that inform how much each feature contributes to\n",
    "    # the classification.\n",
    "    W = tf.Variable(tf.zeros([num_features, num_labels]))\n",
    "    b = tf.Variable(tf.zeros([num_labels]))\n",
    "    y_hat = tf.nn.softmax(tf.matmul(x, W) + b)\n",
    "\n",
    "    # Optimization:\n",
    "    cross_entropy = -tf.reduce_sum(y * tf.log(y_hat))\n",
    "    train_step = tf.train.GradientDescentOptimizer(0.01).minimize(cross_entropy)\n",
    "\n",
    "    #s = tf.Session()\n",
    "    # Run all the initializers to prepare the trainable parameters.\n",
    "    #tf.initialize_all_variables().run(session=sess)\n",
    "    tf.global_variables_initializer().run(session=sess)\n",
    "    print('Initialized!')\n",
    "    \n",
    "    # Iterate and train:\n",
    "    print('Training:')\n",
    "    for step in range(num_epochs * train_size // batch_size):\n",
    "        print(step),\n",
    "\n",
    "        offset = (step * batch_size) % train_size\n",
    "        batch_data = train_data[offset:(offset + batch_size), :]\n",
    "        batch_labels = train_labels[offset:(offset + batch_size)]\n",
    "        train_step.run(feed_dict={x: batch_data, y: batch_labels}, session=sess)\n",
    "\n",
    "        if offset >= train_size-batch_size:\n",
    "            print\n",
    "\n",
    "    return W, b"
   ]
  },
  {
   "cell_type": "code",
   "execution_count": 11,
   "metadata": {
    "collapsed": false
   },
   "outputs": [
    {
     "name": "stdout",
     "output_type": "stream",
     "text": [
      "Initialized!\n",
      "Training:\n",
      "0\n",
      "1\n",
      "2\n",
      "3\n",
      "4\n",
      "5\n",
      "6\n",
      "7\n",
      "8\n",
      "9\n",
      "10\n",
      "11\n",
      "12\n",
      "13\n",
      "14\n",
      "15\n",
      "16\n",
      "17\n",
      "18\n",
      "19\n",
      "20\n",
      "21\n",
      "22\n",
      "23\n",
      "24\n",
      "25\n",
      "26\n",
      "27\n",
      "28\n",
      "29\n",
      "30\n",
      "31\n",
      "32\n",
      "33\n",
      "34\n",
      "35\n",
      "36\n",
      "37\n",
      "38\n",
      "39\n",
      "40\n",
      "41\n",
      "42\n",
      "43\n",
      "44\n",
      "45\n",
      "46\n",
      "47\n",
      "48\n",
      "49\n"
     ]
    }
   ],
   "source": [
    "W, b = train_softmax(train_data, train_labels)"
   ]
  },
  {
   "cell_type": "code",
   "execution_count": 12,
   "metadata": {
    "collapsed": false
   },
   "outputs": [],
   "source": [
    "def evaluate_softmax(W, b, test_data, test_labels, sess=s):\n",
    "    \"\"\" \n",
    "    Proportion correct classification in test data of \n",
    "    the softmax model.\n",
    "    \n",
    "    Parameters\n",
    "    ----------\n",
    "    W, b, s : outputs of `train_softmax`\n",
    "    test_data, test_labels : outputs of `generate_dataset`\n",
    "    \n",
    "    Returns \n",
    "    -------\n",
    "    p_correct : float\n",
    "        The proportion correct classification\n",
    "    \"\"\"\n",
    "    test_size, num_features = test_data.shape\n",
    "    test_size, num_labels = test_labels.shape\n",
    "    # This is where training samples and labels are fed to the graph.\n",
    "    # These placeholder nodes will be fed a batch of training data at each\n",
    "    # training step using the {feed_dict} argument to the Run() call below.\n",
    "    x = tf.placeholder(\"float\", shape=[None, num_features])\n",
    "    y_hat = tf.nn.softmax(tf.matmul(x, W) + b)\n",
    "    y = tf.placeholder(\"float\", shape=[None, num_labels])\n",
    "    # Evaluation:\n",
    "    correct_prediction = tf.equal(tf.argmax(y_hat, 1), tf.argmax(y, 1))\n",
    "    accuracy = tf.reduce_mean(tf.cast(correct_prediction, \"float\"))\n",
    "    p_correct = accuracy.eval(feed_dict={x: test_data, y: test_labels}, session=sess)\n",
    "    return p_correct\n"
   ]
  },
  {
   "cell_type": "code",
   "execution_count": 13,
   "metadata": {
    "collapsed": false
   },
   "outputs": [
    {
     "data": {
      "text/plain": [
       "1.0"
      ]
     },
     "execution_count": 13,
     "metadata": {},
     "output_type": "execute_result"
    }
   ],
   "source": [
    "evaluate_softmax(W, b, test_data, test_labels, s)"
   ]
  },
  {
   "cell_type": "code",
   "execution_count": 14,
   "metadata": {
    "collapsed": false
   },
   "outputs": [],
   "source": [
    "Wx_b =np.dot(test_data, s.run(W)) + s.run(b)"
   ]
  },
  {
   "cell_type": "code",
   "execution_count": 15,
   "metadata": {
    "collapsed": false
   },
   "outputs": [],
   "source": [
    "cls = tf.nn.softmax(Wx_b)"
   ]
  },
  {
   "cell_type": "code",
   "execution_count": 16,
   "metadata": {
    "collapsed": false
   },
   "outputs": [
    {
     "data": {
      "text/plain": [
       "<tf.Tensor 'Softmax_2:0' shape=(200, 2) dtype=float32>"
      ]
     },
     "execution_count": 16,
     "metadata": {},
     "output_type": "execute_result"
    }
   ],
   "source": [
    "cls"
   ]
  },
  {
   "cell_type": "code",
   "execution_count": 17,
   "metadata": {
    "collapsed": false
   },
   "outputs": [],
   "source": [
    "cls_np = np.round(s.run(cls))"
   ]
  },
  {
   "cell_type": "code",
   "execution_count": 18,
   "metadata": {
    "collapsed": false
   },
   "outputs": [
    {
     "data": {
      "image/png": "[encoded data removed]",
      "text/plain": [
       "<matplotlib.figure.Figure at 0x1161b6a90>"
      ]
     },
     "metadata": {},
     "output_type": "display_data"
    }
   ],
   "source": [
    "fig, ax = plt.subplots(1)\n",
    "ax.plot(test_data[np.where(cls_np[:, 0]), 0], test_data[np.where(cls_np[:, 0]), 1], 'bo')\n",
    "ax.plot(test_data[np.where(cls_np[:, 1]), 0], test_data[np.where(cls_np[:, 1]), 1], 'ro')\n",
    "ax.set_aspect('equal')"
   ]
  },
  {
   "cell_type": "markdown",
   "metadata": {},
   "source": [
    "### The next set of data is not linearly separable:"
   ]
  },
  {
   "cell_type": "code",
   "execution_count": 19,
   "metadata": {
    "collapsed": false
   },
   "outputs": [],
   "source": [
    "train_data, test_data, train_labels, test_labels = generate_dataset(make_moons, n_train=1000, n_test=200, noise=0.2)"
   ]
  },
  {
   "cell_type": "code",
   "execution_count": 20,
   "metadata": {
    "collapsed": false
   },
   "outputs": [
    {
     "data": {
      "image/png": "[encoded data removed]",
      "text/plain": [
       "<matplotlib.figure.Figure at 0x116753080>"
      ]
     },
     "metadata": {},
     "output_type": "display_data"
    }
   ],
   "source": [
    "fig, ax = plt.subplots(1)\n",
    "ax.plot(train_data[np.where(train_labels[:, 0]), 0], train_data[np.where(train_labels[:, 0]), 1], 'bo')\n",
    "ax.plot(train_data[np.where(train_labels[:, 1]), 0], train_data[np.where(train_labels[:, 1]), 1], 'ro')\n",
    "ax.set_aspect('equal')"
   ]
  },
  {
   "cell_type": "markdown",
   "metadata": {},
   "source": [
    "### And softmax doesn't do great:"
   ]
  },
  {
   "cell_type": "code",
   "execution_count": 21,
   "metadata": {
    "collapsed": false
   },
   "outputs": [
    {
     "name": "stdout",
     "output_type": "stream",
     "text": [
      "Initialized!\n",
      "Training:\n",
      "0\n",
      "1\n",
      "2\n",
      "3\n",
      "4\n",
      "5\n",
      "6\n",
      "7\n",
      "8\n",
      "9\n",
      "10\n",
      "11\n",
      "12\n",
      "13\n",
      "14\n",
      "15\n",
      "16\n",
      "17\n",
      "18\n",
      "19\n",
      "20\n",
      "21\n",
      "22\n",
      "23\n",
      "24\n",
      "25\n",
      "26\n",
      "27\n",
      "28\n",
      "29\n",
      "30\n",
      "31\n",
      "32\n",
      "33\n",
      "34\n",
      "35\n",
      "36\n",
      "37\n",
      "38\n",
      "39\n",
      "40\n",
      "41\n",
      "42\n",
      "43\n",
      "44\n",
      "45\n",
      "46\n",
      "47\n",
      "48\n",
      "49\n"
     ]
    },
    {
     "data": {
      "text/plain": [
       "0.88"
      ]
     },
     "execution_count": 21,
     "metadata": {},
     "output_type": "execute_result"
    }
   ],
   "source": [
    "W, b = train_softmax(train_data, train_labels)\n",
    "evaluate_softmax(W, b, test_data, test_labels, s)"
   ]
  },
  {
   "cell_type": "code",
   "execution_count": 22,
   "metadata": {
    "collapsed": false
   },
   "outputs": [],
   "source": [
    "cls = np.round(s.run(tf.nn.softmax(tf.matmul(test_data, W) + b)))"
   ]
  },
  {
   "cell_type": "code",
   "execution_count": 23,
   "metadata": {
    "collapsed": false
   },
   "outputs": [
    {
     "data": {
      "image/png": "[encoded data removed]",
      "text/plain": [
       "<matplotlib.figure.Figure at 0x114652860>"
      ]
     },
     "metadata": {},
     "output_type": "display_data"
    }
   ],
   "source": [
    "fig, ax = plt.subplots(1)\n",
    "ax.plot(test_data[np.where(cls[:, 0]), 0], test_data[np.where(cls[:, 0]), 1], 'bo')\n",
    "ax.plot(test_data[np.where(cls[:, 1]), 0], test_data[np.where(cls[:, 1]), 1], 'ro')\n",
    "ax.set_aspect('equal')"
   ]
  },
  {
   "cell_type": "code",
   "execution_count": 24,
   "metadata": {
    "collapsed": true
   },
   "outputs": [],
   "source": [
    "train_data, test_data, train_labels, test_labels = generate_dataset(make_circles, n_train=1000, n_test=200, noise=0.2, factor=0.1)"
   ]
  },
  {
   "cell_type": "code",
   "execution_count": 25,
   "metadata": {
    "collapsed": false
   },
   "outputs": [
    {
     "data": {
      "image/png": "[encoded data removed]",
      "text/plain": [
       "<matplotlib.figure.Figure at 0x114642b38>"
      ]
     },
     "metadata": {},
     "output_type": "display_data"
    }
   ],
   "source": [
    "fig, ax = plt.subplots(1)\n",
    "ax.plot(train_data[np.where(train_labels[:, 0]), 0], train_data[np.where(train_labels[:, 0]), 1], 'bo')\n",
    "ax.plot(train_data[np.where(train_labels[:, 1]), 0], train_data[np.where(train_labels[:, 1]), 1], 'ro')\n",
    "ax.set_aspect('equal')"
   ]
  },
  {
   "cell_type": "code",
   "execution_count": 26,
   "metadata": {
    "collapsed": false
   },
   "outputs": [
    {
     "name": "stdout",
     "output_type": "stream",
     "text": [
      "Initialized!\n",
      "Training:\n",
      "0\n",
      "1\n",
      "2\n",
      "3\n",
      "4\n",
      "5\n",
      "6\n",
      "7\n",
      "8\n",
      "9\n",
      "10\n",
      "11\n",
      "12\n",
      "13\n",
      "14\n",
      "15\n",
      "16\n",
      "17\n",
      "18\n",
      "19\n",
      "20\n",
      "21\n",
      "22\n",
      "23\n",
      "24\n",
      "25\n",
      "26\n",
      "27\n",
      "28\n",
      "29\n",
      "30\n",
      "31\n",
      "32\n",
      "33\n",
      "34\n",
      "35\n",
      "36\n",
      "37\n",
      "38\n",
      "39\n",
      "40\n",
      "41\n",
      "42\n",
      "43\n",
      "44\n",
      "45\n",
      "46\n",
      "47\n",
      "48\n",
      "49\n"
     ]
    },
    {
     "data": {
      "text/plain": [
       "0.50999999"
      ]
     },
     "execution_count": 26,
     "metadata": {},
     "output_type": "execute_result"
    }
   ],
   "source": [
    "W, b  = train_softmax(train_data, train_labels)\n",
    "evaluate_softmax(W, b, test_data, test_labels, s)"
   ]
  },
  {
   "cell_type": "code",
   "execution_count": 27,
   "metadata": {
    "collapsed": true
   },
   "outputs": [],
   "source": [
    "cls = np.round(s.run(tf.nn.softmax(tf.matmul(test_data, W) + b)))"
   ]
  },
  {
   "cell_type": "code",
   "execution_count": 28,
   "metadata": {
    "collapsed": false
   },
   "outputs": [
    {
     "data": {
      "image/png": "[encoded data removed]",
      "text/plain": [
       "<matplotlib.figure.Figure at 0x104356208>"
      ]
     },
     "metadata": {},
     "output_type": "display_data"
    }
   ],
   "source": [
    "fig, ax = plt.subplots(1)\n",
    "ax.plot(test_data[np.where(cls[:, 0]), 0], test_data[np.where(cls[:, 0]), 1], 'bo')\n",
    "ax.plot(test_data[np.where(cls[:, 1]), 0], test_data[np.where(cls[:, 1]), 1], 'ro')\n",
    "ax.set_aspect('equal')"
   ]
  },
  {
   "cell_type": "markdown",
   "metadata": {},
   "source": [
    "## Another approach is a network with hidden layers"
   ]
  },
  {
   "cell_type": "markdown",
   "metadata": {},
   "source": [
    "First, we will define a helper function that helps us initialize the weights in networks with hidden layers. This strategy was proposed in a [paper](http://jmlr.org/proceedings/papers/v9/glorot10a/glorot10a.pdf) by Xavier Glorot and Yoshua Bengio, and is explained in this [blog post](http://andyljones.tumblr.com/post/110998971763/an-explanation-of-xavier-initialization)\n",
    "\n",
    "The implementation is based on code by Delip Rao (https://github.com/delip/blog-stuff/blob/master/tensorflow_ufp.ipynb)\n"
   ]
  },
  {
   "cell_type": "code",
   "execution_count": 29,
   "metadata": {
    "collapsed": true
   },
   "outputs": [],
   "source": [
    "def init_weights(shape, init_method='xavier', xavier_params = (None, None)):\n",
    "    \"\"\" Initialization of weights in a multi-layer network \n",
    "    \n",
    "    Parameters\n",
    "    ----------\n",
    "    shape : list or tuple\n",
    "        The shape of the weight matrix\n",
    "    init_method: str, one of {'xavier', 'zeros', 'uniform'}\n",
    "        The initialization method for the weights. \n",
    "           'xavier' : uses the method developed by Glorot and Bengio.\n",
    "           'zeros' : set all weights to zeros.\n",
    "           'uniform' : weights drawn from uniform distribution [0, 1].\n",
    "    xavier_params : list or tuple of length 2\n",
    "        fan_in and fan_out ratios for this layer\n",
    "    \"\"\"    \n",
    "    if init_method == 'zeros':\n",
    "        return tf.Variable(tf.zeros(shape, dtype=tf.float32))\n",
    "    elif init_method == 'uniform':\n",
    "        return tf.Variable(tf.random_uniform(shape, dtype=tf.float32))\n",
    "    else: #xavier\n",
    "        (fan_in, fan_out) = xavier_params\n",
    "        low = -4*np.sqrt(6.0/(fan_in + fan_out)) # {sigmoid:4, tanh:1} \n",
    "        high = 4*np.sqrt(6.0/(fan_in + fan_out))\n",
    "        return tf.Variable(tf.random_uniform(shape, minval=low, maxval=high, dtype=tf.float32))\n",
    "    "
   ]
  },
  {
   "cell_type": "code",
   "execution_count": 30,
   "metadata": {
    "collapsed": false
   },
   "outputs": [],
   "source": [
    "def train_hidden(train_data, \n",
    "                 train_labels, \n",
    "                 batch_size=BATCH_SIZE,\n",
    "                 num_epochs=NUM_EPOCHS, \n",
    "                 num_hidden=NUM_HIDDEN,\n",
    "                 sess=s):\n",
    "    \"\"\" \n",
    "    Train a network with one hidden layer\n",
    "    \n",
    "    Parameters\n",
    "    ----------\n",
    "    train_data, train_labels: output of `generate_dataset`.\n",
    "    batch_size : int\n",
    "        The number of items in training batch.\n",
    "    num_epochs : int\n",
    "        The number of training epochs.\n",
    "        \n",
    "    Returns\n",
    "    -------\n",
    "    w_hidden, b_hidden, w_out, b_out : Variable \n",
    "        Weights and biases for the hidden and output layer.\n",
    "    s : TensorFlow session\n",
    "    \"\"\"\n",
    "    # Get the shape of the training data.\n",
    "    train_size, num_features = train_data.shape\n",
    "    train_size, num_labels = train_labels.shape\n",
    "    # This is where training samples and labels are fed to the graph.\n",
    "    # These placeholder nodes will be fed a batch of training data at each\n",
    "    # training step using the {feed_dict} argument to the Run() call below.\n",
    "    x = tf.placeholder(\"float\", shape=[None, num_features])\n",
    "    y = tf.placeholder(\"float\", shape=[None, num_labels])\n",
    "    \n",
    "    # Initialize the hidden weights and biases.\n",
    "    w_hidden = init_weights(\n",
    "        [num_features, num_hidden],\n",
    "        'xavier',\n",
    "        xavier_params=(num_features, num_hidden))\n",
    "\n",
    "    b_hidden = init_weights([1, num_hidden],'zeros')\n",
    "\n",
    "    # The hidden layer.\n",
    "    hidden = tf.nn.tanh(tf.matmul(x, w_hidden) + b_hidden)\n",
    "\n",
    "    # Initialize the output weights and biases.\n",
    "    w_out = init_weights(\n",
    "        [num_hidden, num_labels],\n",
    "        'xavier',\n",
    "        xavier_params=(num_hidden, num_labels))\n",
    "    \n",
    "    b_out = init_weights([1, num_labels],'zeros')\n",
    "\n",
    "    # The output layer.\n",
    "    y_hat = tf.nn.softmax(tf.matmul(hidden, w_out) + b_out)\n",
    "    \n",
    "    # Optimization.\n",
    "    cross_entropy = -tf.reduce_sum(y * tf.log(y_hat))\n",
    "    train_step = tf.train.GradientDescentOptimizer(0.01).minimize(cross_entropy)\n",
    "    \n",
    "    tf.global_variables_initializer().run(session=sess)\n",
    "    print('Initialized!')\n",
    "    # Iterate and train:\n",
    "    print('Training.')\n",
    "    for step in range(num_epochs * train_size // batch_size):\n",
    "        print(step),\n",
    "\n",
    "        offset = (step * batch_size) % train_size\n",
    "        batch_data = train_data[offset:(offset + batch_size), :]\n",
    "        batch_labels = train_labels[offset:(offset + batch_size)]\n",
    "        train_step.run(feed_dict={x: batch_data, y: batch_labels}, session=sess)\n",
    "\n",
    "        if offset >= train_size-batch_size:\n",
    "            print('')\n",
    "    return w_hidden, b_hidden, w_out, b_out\n"
   ]
  },
  {
   "cell_type": "code",
   "execution_count": 31,
   "metadata": {
    "collapsed": true
   },
   "outputs": [],
   "source": [
    "def evaluate_hidden(w_hidden, b_hidden, w_out, b_out, test_data, test_labels, sess=s):\n",
    "    \"\"\" \n",
    "    Evaluate the parameters of a network with one hidden layer on test data\n",
    "    \n",
    "    Parameters\n",
    "    ----------\n",
    "    w_hidden, b_hidden, w_out, b_out, s : outputs of `train_hidden`\n",
    "    test_data, test_labels : outputs of `generate_dataset`\n",
    "    \n",
    "    Returns \n",
    "    -------\n",
    "    p_correct : float\n",
    "        The proportion correct classification\n",
    "    \n",
    "    \"\"\"\n",
    "    test_size, num_features = test_data.shape\n",
    "\n",
    "    # This is where training samples and labels are fed to the graph.\n",
    "    # These placeholder nodes will be fed a batch of training data at each\n",
    "    # training step using the {feed_dict} argument to the Run() call below.\n",
    "    x = tf.placeholder(\"float\", shape=[None, num_features])\n",
    "    y = tf.placeholder(\"float\", shape=[None, num_labels])\n",
    "\n",
    "    hidden = tf.nn.tanh(tf.matmul(x, w_hidden) + b_hidden)\n",
    "    y_hat = tf.nn.softmax(tf.matmul(hidden, w_out) + b_out)\n",
    "    \n",
    "    # Evaluation:\n",
    "    correct_prediction = tf.equal(tf.argmax(y_hat, 1), tf.argmax(y, 1))\n",
    "    accuracy = tf.reduce_mean(tf.cast(correct_prediction, \"float\"))\n",
    "    p_correct = accuracy.eval(feed_dict={x: test_data, y: test_labels}, session=sess)\n",
    "    return p_correct\n"
   ]
  },
  {
   "cell_type": "code",
   "execution_count": 32,
   "metadata": {
    "collapsed": true
   },
   "outputs": [],
   "source": [
    "train_data, test_data, train_labels, test_labels = generate_dataset(make_circles, n_train=1000, n_test=200, noise=0.2, factor=0.1)"
   ]
  },
  {
   "cell_type": "code",
   "execution_count": 33,
   "metadata": {
    "collapsed": false
   },
   "outputs": [
    {
     "name": "stdout",
     "output_type": "stream",
     "text": [
      "Initialized!\n",
      "Training.\n",
      "0\n",
      "1\n",
      "2\n",
      "3\n",
      "4\n",
      "5\n",
      "6\n",
      "7\n",
      "8\n",
      "9\n",
      "\n",
      "10\n",
      "11\n",
      "12\n",
      "13\n",
      "14\n",
      "15\n",
      "16\n",
      "17\n",
      "18\n",
      "19\n",
      "\n",
      "20\n",
      "21\n",
      "22\n",
      "23\n",
      "24\n",
      "25\n",
      "26\n",
      "27\n",
      "28\n",
      "29\n",
      "\n",
      "30\n",
      "31\n",
      "32\n",
      "33\n",
      "34\n",
      "35\n",
      "36\n",
      "37\n",
      "38\n",
      "39\n",
      "\n",
      "40\n",
      "41\n",
      "42\n",
      "43\n",
      "44\n",
      "45\n",
      "46\n",
      "47\n",
      "48\n",
      "49\n",
      "\n"
     ]
    },
    {
     "data": {
      "text/plain": [
       "0.98000002"
      ]
     },
     "execution_count": 33,
     "metadata": {},
     "output_type": "execute_result"
    }
   ],
   "source": [
    "w_hidden, b_hidden, w_out, b_out  = train_hidden(train_data, train_labels)\n",
    "evaluate_hidden(w_hidden, b_hidden, w_out, b_out, test_data, test_labels, s)"
   ]
  },
  {
   "cell_type": "code",
   "execution_count": 34,
   "metadata": {
    "collapsed": false
   },
   "outputs": [],
   "source": [
    "cls = np.round(s.run(tf.nn.softmax(tf.matmul(tf.nn.tanh(tf.matmul(test_data, w_hidden) + b_hidden), w_out) + b_out)))"
   ]
  },
  {
   "cell_type": "code",
   "execution_count": 35,
   "metadata": {
    "collapsed": false
   },
   "outputs": [
    {
     "data": {
      "image/png": "[encoded data removed]",
      "text/plain": [
       "<matplotlib.figure.Figure at 0x114618d68>"
      ]
     },
     "metadata": {},
     "output_type": "display_data"
    }
   ],
   "source": [
    "fig, ax = plt.subplots(1)\n",
    "ax.plot(test_data[np.where(cls[:, 0]), 0], test_data[np.where(cls[:, 0]), 1], 'bo')\n",
    "ax.plot(test_data[np.where(cls[:, 1]), 0], test_data[np.where(cls[:, 1]), 1], 'ro')\n",
    "ax.set_aspect('equal')"
   ]
  },
  {
   "cell_type": "code",
   "execution_count": 36,
   "metadata": {
    "collapsed": true
   },
   "outputs": [],
   "source": [
    "train_data, test_data, train_labels, test_labels = generate_dataset(make_moons, n_train=1000, n_test=200, noise=0.2)"
   ]
  },
  {
   "cell_type": "code",
   "execution_count": 37,
   "metadata": {
    "collapsed": false
   },
   "outputs": [
    {
     "name": "stdout",
     "output_type": "stream",
     "text": [
      "Initialized!\n",
      "Training.\n",
      "0\n",
      "1\n",
      "2\n",
      "3\n",
      "4\n",
      "5\n",
      "6\n",
      "7\n",
      "8\n",
      "9\n",
      "\n",
      "10\n",
      "11\n",
      "12\n",
      "13\n",
      "14\n",
      "15\n",
      "16\n",
      "17\n",
      "18\n",
      "19\n",
      "\n",
      "20\n",
      "21\n",
      "22\n",
      "23\n",
      "24\n",
      "25\n",
      "26\n",
      "27\n",
      "28\n",
      "29\n",
      "\n",
      "30\n",
      "31\n",
      "32\n",
      "33\n",
      "34\n",
      "35\n",
      "36\n",
      "37\n",
      "38\n",
      "39\n",
      "\n",
      "40\n",
      "41\n",
      "42\n",
      "43\n",
      "44\n",
      "45\n",
      "46\n",
      "47\n",
      "48\n",
      "49\n",
      "\n"
     ]
    },
    {
     "data": {
      "text/plain": [
       "0.92500001"
      ]
     },
     "execution_count": 37,
     "metadata": {},
     "output_type": "execute_result"
    }
   ],
   "source": [
    "w_hidden, b_hidden, w_out, b_out = train_hidden(train_data, train_labels)\n",
    "evaluate_hidden(w_hidden, b_hidden, w_out, b_out, test_data, test_labels, s)"
   ]
  },
  {
   "cell_type": "code",
   "execution_count": 38,
   "metadata": {
    "collapsed": true
   },
   "outputs": [],
   "source": [
    "cls = np.round(s.run(tf.nn.softmax(tf.matmul(tf.nn.tanh(tf.matmul(test_data, w_hidden) + b_hidden), w_out) + b_out)))"
   ]
  },
  {
   "cell_type": "code",
   "execution_count": 39,
   "metadata": {
    "collapsed": false
   },
   "outputs": [
    {
     "data": {
      "image/png": "[encoded data removed]",
      "text/plain": [
       "<matplotlib.figure.Figure at 0x1145f7438>"
      ]
     },
     "metadata": {},
     "output_type": "display_data"
    }
   ],
   "source": [
    "fig, ax = plt.subplots(1)\n",
    "ax.plot(test_data[np.where(cls[:, 0]), 0], test_data[np.where(cls[:, 0]), 1], 'bo')\n",
    "ax.plot(test_data[np.where(cls[:, 1]), 0], test_data[np.where(cls[:, 1]), 1], 'ro')\n",
    "ax.set_aspect('equal')"
   ]
  },
  {
   "cell_type": "markdown",
   "metadata": {},
   "source": [
    "## Next, we build a \"universal function approximator\" out of a similar network\n",
    "\n",
    "As implied above, neural networks with hidden layers can do *any* classification task. Moving \n",
    "from the world of classification to regression, an even more general statement is that they can be used to \n",
    "approximate any function (!). An intuitive explanation of this fact can be read [here](http://neuralnetworksanddeeplearning.com/chap4.html).\n",
    "\n",
    "Let's go ahdead and build a Universal Function Approximator, based on code in [a notebook by Delip Rao](https://github.com/delip/blog-stuff/blob/master/tensorflow_ufp.ipynb)."
   ]
  },
  {
   "cell_type": "code",
   "execution_count": 40,
   "metadata": {
    "collapsed": true
   },
   "outputs": [],
   "source": [
    "class UniversalFunctionApproximator(object):\n",
    "    \"\"\" Approximate any function using a neural network with a hidden layer\"\"\"\n",
    "    def __init__(self, \n",
    "                 n_hidden=NUM_HIDDEN, \n",
    "                 batch_size=BATCH_SIZE,\n",
    "                 n_epochs=NUM_EPOCHS):\n",
    "        \"\"\" Initialize a UniversalFunctionApproximator\n",
    "        \n",
    "        Parameters\n",
    "        ----------\n",
    "        n_hidden : number of units in the hidden layer\n",
    "        batch_size : how many samples in each batch (\"mini batch\") in training\n",
    "        n_epochs : how many rounds of training\n",
    "        \"\"\"\n",
    "        self.batch_size = batch_size\n",
    "        self.n_epochs = n_epochs\n",
    "        # Initialize the weights for both layers:\n",
    "        self.w_h = init_weights([1, n_hidden], 'xavier', xavier_params=(1, n_hidden))\n",
    "        self.b_h = init_weights([1, n_hidden], 'zeros')\n",
    "        self.w_o = init_weights([n_hidden, 1], 'xavier', xavier_params=(n_hidden, 1))\n",
    "        self.b_o = init_weights([1, 1], 'zeros')\n",
    "        \n",
    "    def _ann(self, X):    \n",
    "        \"\"\"A two-layer network\"\"\"\n",
    "        h = tf.nn.sigmoid(tf.matmul(X, self.w_h) + self.b_h)\n",
    "        return tf.matmul(h, self.w_o) + self.b_o\n",
    "\n",
    "    def fit(self, trainx, trainy):\n",
    "        \"\"\" \n",
    "        Fit a UFA to data\n",
    "        \n",
    "        Parameters\n",
    "        ----------\n",
    "        trainx, trainy : 1D arrays\n",
    "            x,y values of the data.\n",
    "        \"\"\"\n",
    "        \n",
    "        x = tf.placeholder(tf.float32, [None, 1], name=\"X\")\n",
    "        y = tf.placeholder(tf.float32, [None, 1], name=\"Y\")\n",
    "        y_hat = self._ann(x)\n",
    "        #cross_entropy = -tf.reduce_sum(y * tf.log(y_hat))\n",
    "        #train_step = tf.train.GradientDescentOptimizer(0.01).minimize(cross_entropy)\n",
    "        train_step = tf.train.AdamOptimizer().minimize(tf.nn.l2_loss(y_hat - y))\n",
    "        self.sess = tf.Session()\n",
    "        self.sess.run(tf.global_variables_initializer())\n",
    "        for i in range(self.n_epochs):\n",
    "            for start, end in zip(range(0, len(trainx), self.batch_size), \n",
    "                                  range(self.batch_size, len(trainx), self.batch_size)):\n",
    "                self.sess.run(train_step, feed_dict={x: trainx[start:end], y: trainy[start:end]})\n",
    "\n",
    "    def predict(self, testx):\n",
    "        \"\"\" \n",
    "        Predict y from x \n",
    "        \n",
    "        Parameters\n",
    "        ----------\n",
    "        testx : 1D array\n",
    "            x values to predict from.\n",
    "        \"\"\"\n",
    "        try:\n",
    "            return self.sess.run(self._ann(testx))\n",
    "        except AttributeError:\n",
    "            raise AttributeError(\"You need to run `fit` befor you can predict!\")"
   ]
  },
  {
   "cell_type": "code",
   "execution_count": 41,
   "metadata": {
    "collapsed": true
   },
   "outputs": [],
   "source": [
    "function_to_learn = lambda x: np.sin(x) + 0.1 * np.random.randn(*x.shape)"
   ]
  },
  {
   "cell_type": "code",
   "execution_count": 42,
   "metadata": {
    "collapsed": false
   },
   "outputs": [],
   "source": [
    "ufa = UniversalFunctionApproximator(n_hidden=100)"
   ]
  },
  {
   "cell_type": "code",
   "execution_count": 43,
   "metadata": {
    "collapsed": true
   },
   "outputs": [],
   "source": [
    "num_examples = 1000000\n",
    "train_split = 0.99"
   ]
  },
  {
   "cell_type": "code",
   "execution_count": 44,
   "metadata": {
    "collapsed": false
   },
   "outputs": [],
   "source": [
    "all_x = np.float32(np.random.uniform(-2*np.pi, 2*np.pi, (1, num_examples))).T\n",
    "np.random.shuffle(all_x)\n",
    "\n",
    "train_size = int(num_examples*train_split)\n",
    "\n",
    "trainx = all_x[:train_size]\n",
    "testx = all_x[train_size:]\n",
    "\n",
    "trainy = function_to_learn(trainx)\n",
    "testy = function_to_learn(testx)"
   ]
  },
  {
   "cell_type": "code",
   "execution_count": 45,
   "metadata": {
    "collapsed": false
   },
   "outputs": [],
   "source": [
    "ufa.fit(trainx, trainy)"
   ]
  },
  {
   "cell_type": "code",
   "execution_count": 46,
   "metadata": {
    "collapsed": false
   },
   "outputs": [],
   "source": [
    "y_hat = ufa.predict(testx)"
   ]
  },
  {
   "cell_type": "code",
   "execution_count": 47,
   "metadata": {
    "collapsed": false
   },
   "outputs": [
    {
     "data": {
      "text/plain": [
       "[<matplotlib.lines.Line2D at 0x103490400>]"
      ]
     },
     "execution_count": 47,
     "metadata": {},
     "output_type": "execute_result"
    },
    {
     "data": {
      "image/png": "[encoded data removed]",
      "text/plain": [
       "<matplotlib.figure.Figure at 0x103490e10>"
      ]
     },
     "metadata": {},
     "output_type": "display_data"
    }
   ],
   "source": [
    "plt.plot(testx, testy, '.')\n",
    "plt.plot(testx, y_hat, '.')"
   ]
  },
  {
   "cell_type": "code",
   "execution_count": null,
   "metadata": {
    "collapsed": true
   },
   "outputs": [],
   "source": []
  }
 ],
 "metadata": {
  "anaconda-cloud": {},
  "kernelspec": {
   "display_name": "Python [conda root]",
   "language": "python",
   "name": "conda-root-py"
  },
  "language_info": {
   "codemirror_mode": {
    "name": "ipython",
    "version": 3
   },
   "file_extension": ".py",
   "mimetype": "text/x-python",
   "name": "python",
   "nbconvert_exporter": "python",
   "pygments_lexer": "ipython3",
   "version": "3.5.2"
  }
 },
 "nbformat": 4,
 "nbformat_minor": 0
}
