{
 "cells": [
  {
   "cell_type": "markdown",
   "metadata": {},
   "source": [
    "# Introducing Keras \n",
    "\n",
    "[`keras`](https://keras.io/) is a library designed to simplify the access to deep learning functionality of TensorFlow (and Theano, but we will not touch on that at all)."
   ]
  },
  {
   "cell_type": "markdown",
   "metadata": {},
   "source": [
    "We will use a few functions from [`scikit-learn`](http://scikit-learn.org) to generate data sets:"
   ]
  },
  {
   "cell_type": "code",
   "execution_count": 1,
   "metadata": {},
   "outputs": [],
   "source": [
    "from sklearn.datasets import make_blobs, make_circles, make_moons\n",
    "from sklearn.model_selection import train_test_split"
   ]
  },
  {
   "cell_type": "markdown",
   "metadata": {},
   "source": [
    "Numpy and Matplotlib are always good to have..."
   ]
  },
  {
   "cell_type": "code",
   "execution_count": 2,
   "metadata": {},
   "outputs": [],
   "source": [
    "import numpy as np\n",
    "import matplotlib as mpl\n",
    "import matplotlib.pyplot as plt\n",
    "%matplotlib inline"
   ]
  },
  {
   "cell_type": "markdown",
   "metadata": {},
   "source": [
    "We'll also set up some configuration variables up-front:"
   ]
  },
  {
   "cell_type": "code",
   "execution_count": 3,
   "metadata": {
    "collapsed": true
   },
   "outputs": [],
   "source": [
    "# Configuration variables:\n",
    "num_labels = 2    # The number of labels.\n",
    "NUM_EPOCHS = 5\n",
    "NUM_HIDDEN = 5\n",
    "BATCH_SIZE = 100  # The number of training examples to use per training step.\n",
    "n_train = 1000\n",
    "n_test = 200"
   ]
  },
  {
   "cell_type": "markdown",
   "metadata": {},
   "source": [
    "And set up a function to generate datasets from functions in `scikit-learn`:"
   ]
  },
  {
   "cell_type": "code",
   "execution_count": 4,
   "metadata": {},
   "outputs": [],
   "source": [
    "def generate_dataset(func, n_train=n_train, n_test=n_test, num_labels=num_labels, **kwargs):\n",
    "    \"\"\" Create synthetic classification data-sets\n",
    "    \n",
    "    Parameters \n",
    "    ----------\n",
    "    func : one of {`make_blobs`, `make_circles`, `make_moons`}\n",
    "        What kind of data to make.\n",
    "    n_train : int\n",
    "        The size of the training set.\n",
    "    n_test : int\n",
    "        The size of the test set.\n",
    "    num_labels : int\n",
    "        The number of classes.\n",
    "    \n",
    "    Returns\n",
    "    -------\n",
    "    train_data, test_data : 2D arrays\n",
    "        Dimensions: {n_train, n_test} by 2\n",
    "    train_labels, test_labels: one-hot encoder arrays\n",
    "        These have dimensions {n_train, n_test} by num_labels\n",
    "    \"\"\"\n",
    "    fvecs, labels = func(n_train + n_test, **kwargs)\n",
    "    # We need the one-hot encoder!\n",
    "    labels_onehot = (np.arange(num_labels) == labels[:, None])\n",
    "    train_data, test_data, train_labels, test_labels = train_test_split(fvecs.astype(np.float32), \n",
    "                                                                        labels_onehot.astype(np.float32), \n",
    "                                                                        train_size=n_train)\n",
    "    return train_data, test_data, train_labels, test_labels "
   ]
  },
  {
   "cell_type": "markdown",
   "metadata": {},
   "source": [
    "### The first example is a linearly separable data-set:"
   ]
  },
  {
   "cell_type": "code",
   "execution_count": 5,
   "metadata": {},
   "outputs": [],
   "source": [
    "train_data, test_data, train_labels, test_labels = generate_dataset(make_blobs, n_train=1000, n_test=200, \n",
    "                                                                    centers=2, center_box=[-4., 4.])"
   ]
  },
  {
   "cell_type": "code",
   "execution_count": 6,
   "metadata": {},
   "outputs": [
    {
     "data": {
      "image/png": "[encoded data removed]",
      "text/plain": [
       "<matplotlib.figure.Figure at 0x10d402fd0>"
      ]
     },
     "metadata": {},
     "output_type": "display_data"
    }
   ],
   "source": [
    "fig, ax = plt.subplots(1)\n",
    "ax.plot(train_data[np.where(train_labels[:, 0]), 0], train_data[np.where(train_labels[:, 0]), 1], 'bo')\n",
    "ax.plot(train_data[np.where(train_labels[:, 1]), 0], train_data[np.where(train_labels[:, 1]), 1], 'ro')\n",
    "ax.set_aspect('equal')"
   ]
  },
  {
   "cell_type": "code",
   "execution_count": 7,
   "metadata": {},
   "outputs": [],
   "source": [
    "train_labels = np.where(train_labels)[1]\n",
    "test_labels = np.where(test_labels)[1]"
   ]
  },
  {
   "cell_type": "code",
   "execution_count": 8,
   "metadata": {},
   "outputs": [
    {
     "name": "stderr",
     "output_type": "stream",
     "text": [
      "Using TensorFlow backend.\n"
     ]
    }
   ],
   "source": [
    "from keras.models import Sequential\n",
    "from keras.layers import Dense, Activation, Dropout"
   ]
  },
  {
   "cell_type": "code",
   "execution_count": 9,
   "metadata": {
    "collapsed": true
   },
   "outputs": [],
   "source": [
    "import keras.layers as kl"
   ]
  },
  {
   "cell_type": "code",
   "execution_count": 10,
   "metadata": {},
   "outputs": [
    {
     "name": "stderr",
     "output_type": "stream",
     "text": [
      "/Users/arokem/anaconda3/lib/python3.5/site-packages/keras/legacy/interfaces.py:86: UserWarning: Update your `Dense` call to the Keras 2 API: `Dense(1, kernel_initializer=\"uniform\", use_bias=False, input_dim=2)`\n",
      "  '` call to the Keras 2 API: ' + signature)\n"
     ]
    }
   ],
   "source": [
    "model = Sequential()\n",
    "model.add(Dense(1, input_dim=2, init='uniform', bias=False))\n",
    "#model.add(Dropout(0.5))\n",
    "#model.add(Dense(64, activation='relu'))\n",
    "#model.add(Dropout(0.5))\n",
    "model.add(Dense(1, activation='sigmoid'))\n",
    "\n",
    "model.compile(loss='binary_crossentropy',\n",
    "              optimizer='rmsprop',\n",
    "              metrics=['accuracy'])"
   ]
  },
  {
   "cell_type": "code",
   "execution_count": 11,
   "metadata": {},
   "outputs": [
    {
     "name": "stderr",
     "output_type": "stream",
     "text": [
      "/Users/arokem/anaconda3/lib/python3.5/site-packages/keras/models.py:826: UserWarning: The `nb_epoch` argument in `fit` has been renamed `epochs`.\n",
      "  warnings.warn('The `nb_epoch` argument in `fit` '\n"
     ]
    },
    {
     "name": "stdout",
     "output_type": "stream",
     "text": [
      "Epoch 1/10\n",
      "1000/1000 [==============================] - 1s - loss: 0.6539 - acc: 0.7810      \n",
      "Epoch 2/10\n",
      "1000/1000 [==============================] - 0s - loss: 0.6379 - acc: 0.9400     \n",
      "Epoch 3/10\n",
      "1000/1000 [==============================] - 0s - loss: 0.6250 - acc: 0.9770     \n",
      "Epoch 4/10\n",
      "1000/1000 [==============================] - 0s - loss: 0.6127 - acc: 0.9870     \n",
      "Epoch 5/10\n",
      "1000/1000 [==============================] - 0s - loss: 0.6004 - acc: 0.9930     \n",
      "Epoch 6/10\n",
      "1000/1000 [==============================] - 0s - loss: 0.5882 - acc: 0.9920     \n",
      "Epoch 7/10\n",
      "1000/1000 [==============================] - 0s - loss: 0.5761 - acc: 0.9900     \n",
      "Epoch 8/10\n",
      "1000/1000 [==============================] - 0s - loss: 0.5641 - acc: 0.9910     \n",
      "Epoch 9/10\n",
      "1000/1000 [==============================] - 0s - loss: 0.5521 - acc: 0.9930     \n",
      "Epoch 10/10\n",
      "1000/1000 [==============================] - 0s - loss: 0.5401 - acc: 0.9920     \n"
     ]
    },
    {
     "data": {
      "text/plain": [
       "<keras.callbacks.History at 0x11c66ff98>"
      ]
     },
     "execution_count": 11,
     "metadata": {},
     "output_type": "execute_result"
    }
   ],
   "source": [
    "model.fit(train_data, train_labels, nb_epoch=10, batch_size=BATCH_SIZE)"
   ]
  },
  {
   "cell_type": "code",
   "execution_count": 12,
   "metadata": {},
   "outputs": [
    {
     "name": "stdout",
     "output_type": "stream",
     "text": [
      "\r",
      "100/200 [==============>...............] - ETA: 0s"
     ]
    }
   ],
   "source": [
    "loss_and_metrics = model.evaluate(test_data, test_labels, batch_size=BATCH_SIZE)"
   ]
  },
  {
   "cell_type": "code",
   "execution_count": 13,
   "metadata": {},
   "outputs": [
    {
     "name": "stdout",
     "output_type": "stream",
     "text": [
      "loss : 0.532893359661\n",
      "acc : 0.990000009537\n"
     ]
    }
   ],
   "source": [
    "for name, metric in zip(model.metrics_names, loss_and_metrics):\n",
    "    print(name, \":\", metric)"
   ]
  },
  {
   "cell_type": "code",
   "execution_count": 14,
   "metadata": {},
   "outputs": [],
   "source": [
    "cls_idx = np.round(model.predict(test_data)).astype(int).squeeze()\n",
    "cls_np = np.zeros((cls_idx.shape[0], 2))\n",
    "cls_np[np.arange(cls_np.shape[0]), cls_idx] = 1"
   ]
  },
  {
   "cell_type": "code",
   "execution_count": 15,
   "metadata": {},
   "outputs": [
    {
     "data": {
      "image/png": "[encoded data removed]",
      "text/plain": [
       "<matplotlib.figure.Figure at 0x11c7c4160>"
      ]
     },
     "metadata": {},
     "output_type": "display_data"
    }
   ],
   "source": [
    "fig, ax = plt.subplots(1)\n",
    "ax.plot(test_data[np.where(cls_np[:, 0]), 0], test_data[np.where(cls_np[:, 0]), 1], 'bo')\n",
    "ax.plot(test_data[np.where(cls_np[:, 1]), 0], test_data[np.where(cls_np[:, 1]), 1], 'ro')\n",
    "ax.set_aspect('equal')"
   ]
  },
  {
   "cell_type": "markdown",
   "metadata": {},
   "source": [
    "### The next set of data is not linearly separable:"
   ]
  },
  {
   "cell_type": "code",
   "execution_count": 16,
   "metadata": {},
   "outputs": [],
   "source": [
    "train_data, test_data, train_labels, test_labels = generate_dataset(make_moons, n_train=1000, n_test=200, noise=0.2)"
   ]
  },
  {
   "cell_type": "code",
   "execution_count": 17,
   "metadata": {},
   "outputs": [
    {
     "data": {
      "image/png": "[encoded data removed]",
      "text/plain": [
       "<matplotlib.figure.Figure at 0x110731160>"
      ]
     },
     "metadata": {},
     "output_type": "display_data"
    }
   ],
   "source": [
    "fig, ax = plt.subplots(1)\n",
    "ax.plot(train_data[np.where(train_labels[:, 0]), 0], train_data[np.where(train_labels[:, 0]), 1], 'bo')\n",
    "ax.plot(train_data[np.where(train_labels[:, 1]), 0], train_data[np.where(train_labels[:, 1]), 1], 'ro')\n",
    "ax.set_aspect('equal')"
   ]
  },
  {
   "cell_type": "code",
   "execution_count": 18,
   "metadata": {
    "collapsed": true
   },
   "outputs": [],
   "source": [
    "train_labels = np.where(train_labels)[1]\n",
    "test_labels = np.where(test_labels)[1]"
   ]
  },
  {
   "cell_type": "code",
   "execution_count": 19,
   "metadata": {},
   "outputs": [
    {
     "name": "stdout",
     "output_type": "stream",
     "text": [
      "Epoch 1/10\n",
      "1000/1000 [==============================] - 0s - loss: 0.7165 - acc: 0.3630     \n",
      "Epoch 2/10\n",
      "1000/1000 [==============================] - 0s - loss: 0.7133 - acc: 0.3780     \n",
      "Epoch 3/10\n",
      "1000/1000 [==============================] - 0s - loss: 0.7098 - acc: 0.3930     \n",
      "Epoch 4/10\n",
      "1000/1000 [==============================] - 0s - loss: 0.7059 - acc: 0.4170     \n",
      "Epoch 5/10\n",
      "1000/1000 [==============================] - 0s - loss: 0.7018 - acc: 0.4340     \n",
      "Epoch 6/10\n",
      " 100/1000 [==>...........................] - ETA: 0s - loss: 0.7011 - acc: 0.4600"
     ]
    },
    {
     "name": "stderr",
     "output_type": "stream",
     "text": [
      "/Users/arokem/anaconda3/lib/python3.5/site-packages/keras/models.py:826: UserWarning: The `nb_epoch` argument in `fit` has been renamed `epochs`.\n",
      "  warnings.warn('The `nb_epoch` argument in `fit` '\n"
     ]
    },
    {
     "name": "stdout",
     "output_type": "stream",
     "text": [
      "1000/1000 [==============================] - 0s - loss: 0.6977 - acc: 0.4570     \n",
      "Epoch 7/10\n",
      "1000/1000 [==============================] - 0s - loss: 0.6936 - acc: 0.4950     \n",
      "Epoch 8/10\n",
      "1000/1000 [==============================] - 0s - loss: 0.6895 - acc: 0.5380     \n",
      "Epoch 9/10\n",
      "1000/1000 [==============================] - 0s - loss: 0.6854 - acc: 0.5830     \n",
      "Epoch 10/10\n",
      "1000/1000 [==============================] - 0s - loss: 0.6813 - acc: 0.6230     \n"
     ]
    },
    {
     "data": {
      "text/plain": [
       "<keras.callbacks.History at 0x11c3b0320>"
      ]
     },
     "execution_count": 19,
     "metadata": {},
     "output_type": "execute_result"
    }
   ],
   "source": [
    "model.fit(train_data, train_labels, nb_epoch=10, batch_size=BATCH_SIZE)"
   ]
  },
  {
   "cell_type": "code",
   "execution_count": 20,
   "metadata": {},
   "outputs": [
    {
     "name": "stdout",
     "output_type": "stream",
     "text": [
      "100/200 [==============>...............] - ETA: 0s\n",
      "loss : 0.684205770493\n",
      "acc : 0.615000009537\n"
     ]
    }
   ],
   "source": [
    "loss_and_metrics = model.evaluate(test_data, test_labels, batch_size=BATCH_SIZE)\n",
    "print()\n",
    "for name, metric in zip(model.metrics_names, loss_and_metrics):\n",
    "    print(name, \":\", metric)"
   ]
  },
  {
   "cell_type": "code",
   "execution_count": 21,
   "metadata": {
    "collapsed": true
   },
   "outputs": [],
   "source": [
    "cls_idx = np.round(model.predict(test_data)).astype(int).squeeze()\n",
    "cls = np.zeros((cls_idx.shape[0], 2))\n",
    "cls[np.arange(cls.shape[0]), cls_idx] = 1"
   ]
  },
  {
   "cell_type": "code",
   "execution_count": 22,
   "metadata": {},
   "outputs": [
    {
     "data": {
      "image/png": "[encoded data removed]",
      "text/plain": [
       "<matplotlib.figure.Figure at 0x110b2bcf8>"
      ]
     },
     "metadata": {},
     "output_type": "display_data"
    }
   ],
   "source": [
    "fig, ax = plt.subplots(1)\n",
    "ax.plot(test_data[np.where(cls[:, 0]), 0], test_data[np.where(cls[:, 0]), 1], 'bo')\n",
    "ax.plot(test_data[np.where(cls[:, 1]), 0], test_data[np.where(cls[:, 1]), 1], 'ro')\n",
    "ax.set_aspect('equal')"
   ]
  },
  {
   "cell_type": "code",
   "execution_count": 23,
   "metadata": {
    "collapsed": true
   },
   "outputs": [],
   "source": [
    "train_data, test_data, train_labels, test_labels = generate_dataset(make_circles, n_train=1000, n_test=200, noise=0.2, factor=0.1)"
   ]
  },
  {
   "cell_type": "code",
   "execution_count": 24,
   "metadata": {},
   "outputs": [
    {
     "data": {
      "image/png": "[encoded data removed]",
      "text/plain": [
       "<matplotlib.figure.Figure at 0x110735198>"
      ]
     },
     "metadata": {},
     "output_type": "display_data"
    }
   ],
   "source": [
    "fig, ax = plt.subplots(1)\n",
    "ax.plot(train_data[np.where(train_labels[:, 0]), 0], train_data[np.where(train_labels[:, 0]), 1], 'bo')\n",
    "ax.plot(train_data[np.where(train_labels[:, 1]), 0], train_data[np.where(train_labels[:, 1]), 1], 'ro')\n",
    "ax.set_aspect('equal')"
   ]
  },
  {
   "cell_type": "code",
   "execution_count": 25,
   "metadata": {
    "collapsed": true
   },
   "outputs": [],
   "source": [
    "train_labels = np.where(train_labels)[1]\n",
    "test_labels = np.where(test_labels)[1]"
   ]
  },
  {
   "cell_type": "code",
   "execution_count": 26,
   "metadata": {},
   "outputs": [
    {
     "name": "stdout",
     "output_type": "stream",
     "text": [
      "Epoch 1/5\n",
      "1000/1000 [==============================] - 0s - loss: 0.6943 - acc: 0.5520     \n",
      "Epoch 2/5\n",
      "1000/1000 [==============================] - 0s - loss: 0.6943 - acc: 0.5340     \n",
      "Epoch 3/5\n",
      "1000/1000 [==============================] - 0s - loss: 0.6943 - acc: 0.5240     \n",
      "Epoch 4/5\n",
      "1000/1000 [==============================] - 0s - loss: 0.6942 - acc: 0.5310     \n",
      "Epoch 5/5\n",
      " 100/1000 [==>...........................] - ETA: 0s - loss: 0.6987 - acc: 0.5000"
     ]
    },
    {
     "name": "stderr",
     "output_type": "stream",
     "text": [
      "/Users/arokem/anaconda3/lib/python3.5/site-packages/keras/models.py:826: UserWarning: The `nb_epoch` argument in `fit` has been renamed `epochs`.\n",
      "  warnings.warn('The `nb_epoch` argument in `fit` '\n"
     ]
    },
    {
     "name": "stdout",
     "output_type": "stream",
     "text": [
      "1000/1000 [==============================] - 0s - loss: 0.6942 - acc: 0.5270     \n"
     ]
    },
    {
     "data": {
      "text/plain": [
       "<keras.callbacks.History at 0x110b2b898>"
      ]
     },
     "execution_count": 26,
     "metadata": {},
     "output_type": "execute_result"
    }
   ],
   "source": [
    "model.fit(train_data, train_labels, nb_epoch=NUM_EPOCHS, batch_size=BATCH_SIZE)"
   ]
  },
  {
   "cell_type": "code",
   "execution_count": 27,
   "metadata": {},
   "outputs": [
    {
     "name": "stdout",
     "output_type": "stream",
     "text": [
      "100/200 [==============>...............] - ETA: 0s\n",
      "loss : 0.693578928709\n",
      "acc : 0.545000016689\n"
     ]
    }
   ],
   "source": [
    "loss_and_metrics = model.evaluate(test_data, test_labels, batch_size=BATCH_SIZE)\n",
    "print()\n",
    "for name, metric in zip(model.metrics_names, loss_and_metrics):\n",
    "    print(name, \":\", metric)"
   ]
  },
  {
   "cell_type": "code",
   "execution_count": 28,
   "metadata": {
    "collapsed": true
   },
   "outputs": [],
   "source": [
    "cls_idx = np.round(model.predict(test_data)).astype(int).squeeze()\n",
    "cls = np.zeros((cls_idx.shape[0], 2))\n",
    "cls[np.arange(cls.shape[0]), cls_idx] = 1"
   ]
  },
  {
   "cell_type": "code",
   "execution_count": 29,
   "metadata": {},
   "outputs": [
    {
     "data": {
      "image/png": "[encoded data removed]",
      "text/plain": [
       "<matplotlib.figure.Figure at 0x110888cf8>"
      ]
     },
     "metadata": {},
     "output_type": "display_data"
    }
   ],
   "source": [
    "fig, ax = plt.subplots(1)\n",
    "ax.plot(test_data[np.where(cls[:, 0]), 0], test_data[np.where(cls[:, 0]), 1], 'bo')\n",
    "ax.plot(test_data[np.where(cls[:, 1]), 0], test_data[np.where(cls[:, 1]), 1], 'ro')\n",
    "ax.set_aspect('equal')"
   ]
  },
  {
   "cell_type": "code",
   "execution_count": 30,
   "metadata": {},
   "outputs": [
    {
     "name": "stderr",
     "output_type": "stream",
     "text": [
      "/Users/arokem/anaconda3/lib/python3.5/site-packages/keras/legacy/interfaces.py:86: UserWarning: Update your `Dense` call to the Keras 2 API: `Dense(64, activation=\"relu\", input_dim=2, kernel_initializer=\"uniform\")`\n",
      "  '` call to the Keras 2 API: ' + signature)\n"
     ]
    }
   ],
   "source": [
    "model = Sequential()\n",
    "model.add(Dense(64, input_dim=2, init='uniform', activation='relu'))\n",
    "model.add(Dropout(0.5))\n",
    "model.add(Dense(64, activation='relu'))\n",
    "model.add(Dropout(0.5))\n",
    "model.add(Dense(1, activation='sigmoid'))\n",
    "\n",
    "model.compile(loss='binary_crossentropy',\n",
    "              optimizer='rmsprop',\n",
    "              metrics=['accuracy'])"
   ]
  },
  {
   "cell_type": "code",
   "execution_count": 31,
   "metadata": {},
   "outputs": [
    {
     "name": "stderr",
     "output_type": "stream",
     "text": [
      "/Users/arokem/anaconda3/lib/python3.5/site-packages/keras/models.py:826: UserWarning: The `nb_epoch` argument in `fit` has been renamed `epochs`.\n",
      "  warnings.warn('The `nb_epoch` argument in `fit` '\n"
     ]
    },
    {
     "name": "stdout",
     "output_type": "stream",
     "text": [
      "Epoch 1/5\n",
      "1000/1000 [==============================] - 1s - loss: 0.6799 - acc: 0.7210     \n",
      "Epoch 2/5\n",
      "1000/1000 [==============================] - 0s - loss: 0.6547 - acc: 0.8710     \n",
      "Epoch 3/5\n",
      "1000/1000 [==============================] - 0s - loss: 0.6283 - acc: 0.8790     \n",
      "Epoch 4/5\n",
      "1000/1000 [==============================] - 0s - loss: 0.5977 - acc: 0.8980     \n",
      "Epoch 5/5\n",
      "1000/1000 [==============================] - 0s - loss: 0.5634 - acc: 0.9010     \n",
      "\n",
      "100/200 [==============>...............] - ETA: 0s\n",
      "loss : 0.546644717455\n",
      "acc : 0.935000002384\n"
     ]
    }
   ],
   "source": [
    "model.fit(train_data, train_labels, nb_epoch=NUM_EPOCHS, batch_size=BATCH_SIZE)\n",
    "print()\n",
    "loss_and_metrics = model.evaluate(test_data, test_labels, batch_size=BATCH_SIZE)\n",
    "print()\n",
    "for name, metric in zip(model.metrics_names, loss_and_metrics):\n",
    "    print(name, \":\", metric)"
   ]
  },
  {
   "cell_type": "code",
   "execution_count": 32,
   "metadata": {},
   "outputs": [
    {
     "data": {
      "image/png": "[encoded data removed]",
      "text/plain": [
       "<matplotlib.figure.Figure at 0x10d400940>"
      ]
     },
     "metadata": {},
     "output_type": "display_data"
    }
   ],
   "source": [
    "cls_idx = np.round(model.predict(test_data)).astype(int).squeeze()\n",
    "cls = np.zeros((cls_idx.shape[0], 2))\n",
    "cls[np.arange(cls.shape[0]), cls_idx] = 1\n",
    "fig, ax = plt.subplots(1)\n",
    "ax.plot(test_data[np.where(cls[:, 0]), 0], test_data[np.where(cls[:, 0]), 1], 'bo')\n",
    "ax.plot(test_data[np.where(cls[:, 1]), 0], test_data[np.where(cls[:, 1]), 1], 'ro')\n",
    "ax.set_aspect('equal')"
   ]
  },
  {
   "cell_type": "code",
   "execution_count": 33,
   "metadata": {
    "collapsed": true
   },
   "outputs": [],
   "source": [
    "import keras "
   ]
  },
  {
   "cell_type": "code",
   "execution_count": 34,
   "metadata": {},
   "outputs": [
    {
     "data": {
      "text/plain": [
       "'2.0.1'"
      ]
     },
     "execution_count": 34,
     "metadata": {},
     "output_type": "execute_result"
    }
   ],
   "source": [
    "keras.__version__"
   ]
  },
  {
   "cell_type": "code",
   "execution_count": null,
   "metadata": {
    "collapsed": true
   },
   "outputs": [],
   "source": []
  }
 ],
 "metadata": {
  "anaconda-cloud": {},
  "kernelspec": {
   "display_name": "Python [conda root]",
   "language": "python",
   "name": "conda-root-py"
  },
  "language_info": {
   "codemirror_mode": {
    "name": "ipython",
    "version": 3
   },
   "file_extension": ".py",
   "mimetype": "text/x-python",
   "name": "python",
   "nbconvert_exporter": "python",
   "pygments_lexer": "ipython3",
   "version": "3.5.2"
  }
 },
 "nbformat": 4,
 "nbformat_minor": 1
}
